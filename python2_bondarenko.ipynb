{
 "cells": [
  {
   "cell_type": "markdown",
   "id": "d90a65d4",
   "metadata": {},
   "source": [
    "# Exercises 1\n",
    "- Open “small.gtf” file \n",
    "- Read each line of the file\n",
    "- Find the last column including the gene annotation\n",
    "- Write this last column into an output file called “file1.txt”"
   ]
  },
  {
   "cell_type": "code",
   "execution_count": 9,
   "id": "87eaa306",
   "metadata": {},
   "outputs": [],
   "source": [
    "with open('small.gtf') as small, open('file1.txt', 'w') as file1:\n",
    "    for line in small.readlines():\n",
    "        last = line.strip().split()[-1]\n",
    "        file1.write(last[1:-2] + \"\\n\")"
   ]
  },
  {
   "cell_type": "markdown",
   "id": "504dd005",
   "metadata": {},
   "source": [
    "# Exercises 2 \n",
    "- Open “small.gtf” file \n",
    "- Read each line of the file\n",
    "- Find the last column including the gene annotation\n",
    "- Use “split()” and “strip()” function to get “gene_id “XLOC_0000X”” and write this into file2.txt"
   ]
  },
  {
   "cell_type": "code",
   "execution_count": 15,
   "id": "14265f12",
   "metadata": {},
   "outputs": [],
   "source": [
    "with open('small.gtf') as small, open('file2.txt', 'w') as file2:\n",
    "    for line in small.readlines():\n",
    "        gene_id = line.strip().split(\"\\t\")[8].split(\";\")[0]\n",
    "        file2.write(gene_id + \"\\n\")"
   ]
  },
  {
   "cell_type": "markdown",
   "id": "501bd040",
   "metadata": {},
   "source": [
    "# Exercises 3 \n",
    "- Open “small.gtf” file \n",
    "- Read each line of the file\n",
    "- Find the last column including the gene annotation\n",
    "- Use “string.split()” function to get “XLOC_0000X” and write this into file3.txt"
   ]
  },
  {
   "cell_type": "code",
   "execution_count": 20,
   "id": "77379cad",
   "metadata": {},
   "outputs": [],
   "source": [
    "with open('small.gtf') as small, open('file3.txt', 'w') as file3:\n",
    "    for line in small.readlines():\n",
    "        gene_id = line.strip().split(\"\\t\")[8].split(\";\")[0].split(' ')[1]\n",
    "        file3.write(gene_id[1:-1] + '\\n')"
   ]
  },
  {
   "cell_type": "markdown",
   "id": "a817a0bc",
   "metadata": {},
   "source": [
    "# Exercises 4 \n",
    "- Open “small.gtf” file; Read each line of the file; Find the last column including the gene annotation\n",
    "- Create a dictionary “geneexon={}” with XLOC_00000X as keys\n",
    "- Check if key is already in the dictionary by ”if xloc in geneexon”\n",
    "- For each key, the values will be list of starting location. For example, XLOC_000001:[1, 6]; XLOC_000002:[8,16]\n",
    "- Function to use is geneexon[‘XLOC_xxxxxx’] = [] followed by geneexon[‘XLOC_xxxxxx’].append(value)"
   ]
  },
  {
   "cell_type": "code",
   "execution_count": 44,
   "id": "8918d1c2",
   "metadata": {},
   "outputs": [
    {
     "name": "stdout",
     "output_type": "stream",
     "text": [
      "{'XLOC_000001': [1, 6], 'XLOC_000002': [8, 16], 'XLOC_000003': [24, 54], 'XLOC_000004': [131, 296, 306], 'XLOC_000005': [4, 39, 131], 'XLOC_000006': [396, 448], 'XLOC_000007': [470, 517], 'XLOC_000008': [39, 121], 'XLOC_000009': [342, 475]}\n"
     ]
    }
   ],
   "source": [
    "with open('small.gtf') as small:\n",
    "    geneexon = {}\n",
    "    for line in small.readlines():\n",
    "        exon = line.strip().split(\"\\t\")\n",
    "        start = int(exon[3])\n",
    "        anno = exon[8].split(\";\")\n",
    "        gene_id = anno[0].split()[1][1:-1]\n",
    "        \n",
    "        if not geneexon.get(gene_id):\n",
    "            geneexon[gene_id] = []\n",
    "        \n",
    "        geneexon[gene_id].append(start)\n",
    "    \n",
    "    print(geneexon)"
   ]
  },
  {
   "cell_type": "markdown",
   "id": "2242c607",
   "metadata": {},
   "source": [
    "# Exercises 5\n",
    "- With the code from exercise 1-4, try to create the following dictionaries:\n",
    "- keys are “XLOC_XXXXX” values are ”Chr1”, “Chr2”\n",
    "- keys are “XLOC_XXXXX” values are “[[1,3],[6,6]]” which are the start/end locations of exons\n",
    "- keys are “Chr1”, “Chr2” and values are “XLOC_xxx”\n",
    "- write a CSV file, with first column is XLOC_xxx, second column is ATxGxxxxx"
   ]
  },
  {
   "cell_type": "code",
   "execution_count": 62,
   "id": "7c005f9d",
   "metadata": {},
   "outputs": [
    {
     "name": "stdout",
     "output_type": "stream",
     "text": [
      "{'XLOC_000001': {'Chr1'}, 'XLOC_000002': {'Chr1'}, 'XLOC_000003': {'Chr1'}, 'XLOC_000004': {'Chr1'}, 'XLOC_000005': {'Chr2'}, 'XLOC_000006': {'Chr3'}, 'XLOC_000007': {'Chr3'}, 'XLOC_000008': {'Chr4'}, 'XLOC_000009': {'Chr4'}}\n",
      "{'XLOC_000001': [[1, 3], [6, 6]], 'XLOC_000002': [[8, 10], [16, 19]], 'XLOC_000003': [[24, 26], [54, 99]], 'XLOC_000004': [[131, 191], [296, 305], [306, 395]], 'XLOC_000005': [[4, 26], [39, 99], [131, 213]], 'XLOC_000006': [[396, 426], [448, 460]], 'XLOC_000007': [[470, 509], [517, 532]], 'XLOC_000008': [[39, 99], [121, 251]], 'XLOC_000009': [[342, 465], [475, 496]]}\n",
      "{'Chr1': {'XLOC_000003', 'XLOC_000001', 'XLOC_000002', 'XLOC_000004'}, 'Chr2': {'XLOC_000005'}, 'Chr3': {'XLOC_000007', 'XLOC_000006'}, 'Chr4': {'XLOC_000009', 'XLOC_000008'}}\n"
     ]
    }
   ],
   "source": [
    "with open('small.gtf') as small, open('file.csv', 'w') as file_csv:\n",
    "    gene_chr = {}\n",
    "    start_end = {}\n",
    "    chr_gene = {}\n",
    "    \n",
    "    for line in small.readlines():\n",
    "        exon = line.strip().split(\"\\t\")\n",
    "        chromosome = exon[0]\n",
    "        start = int(exon[3])\n",
    "        end = int(exon[4])\n",
    "        anno = exon[8].split(\";\")\n",
    "        gene_id = anno[0].split()[1][1:-1]\n",
    "        gene_name = anno[2].split()[1][1:-1]\n",
    "        \n",
    "        if not gene_chr.get(gene_id):\n",
    "            gene_chr[gene_id] = set()\n",
    "        if not start_end.get(gene_id):\n",
    "            start_end[gene_id] = []\n",
    "        if not chr_gene.get(chromosome):\n",
    "            chr_gene[chromosome] = set()\n",
    "            \n",
    "        gene_chr[gene_id].add(chromosome)\n",
    "        start_end[gene_id].append([start, end])\n",
    "        chr_gene[chromosome].add(gene_id)\n",
    "        \n",
    "        file_csv.write(gene_id + \";\" + gene_name + \"\\n\")\n",
    "        \n",
    "    print(gene_chr)\n",
    "    print(start_end)\n",
    "    print(chr_gene)"
   ]
  }
 ],
 "metadata": {
  "kernelspec": {
   "display_name": "Python 3 (ipykernel)",
   "language": "python",
   "name": "python3"
  },
  "language_info": {
   "codemirror_mode": {
    "name": "ipython",
    "version": 3
   },
   "file_extension": ".py",
   "mimetype": "text/x-python",
   "name": "python",
   "nbconvert_exporter": "python",
   "pygments_lexer": "ipython3",
   "version": "3.8.10"
  }
 },
 "nbformat": 4,
 "nbformat_minor": 5
}
